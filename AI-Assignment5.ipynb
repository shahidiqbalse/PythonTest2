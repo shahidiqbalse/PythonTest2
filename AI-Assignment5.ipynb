{
 "cells": [
  {
   "cell_type": "code",
   "execution_count": 24,
   "metadata": {},
   "outputs": [
    {
     "name": "stdout",
     "output_type": "stream",
     "text": [
      "we: 6 times\n",
      "not: 3 times\n",
      "what: 3 times\n",
      "are: 3 times\n",
      "be: 3 times\n",
      "to: 2 times\n",
      "should: 1 times\n",
      "at: 1 times\n",
      "but: 1 times\n",
      "need: 1 times\n",
      "football: 1 times\n",
      "coach: 1 times\n",
      "--: 1 times\n",
      "least: 1 times\n",
      "used: 1 times\n"
     ]
    }
   ],
   "source": [
    "\"\"\"Wordcount exercise\n",
    "Python class\n",
    "\n",
    "The main() below is already defined and complete. It calls print_words()\n",
    "and print_top() functions which you write.\n",
    "\n",
    "1. For the --count flag, implement a print_words(filename) function that counts\n",
    "how often each word appears in the text and prints:\n",
    "word1 count1\n",
    "word2 count2\n",
    "...\n",
    "\n",
    "Print the above list in order sorted by word (python will sort punctuation to\n",
    "come before letters -- that's fine). Store all the words as lowercase,\n",
    "so 'The' and 'the' count as the same word.\n",
    "\n",
    "2. For the --topcount flag, implement a print_top(filename) which is similar\n",
    "to print_words() but which prints just the top 20 most common words sorted\n",
    "so the most common word is first, then the next most common, and so on.\n",
    "\n",
    "Use str.split() (no arguments) to split on all whitespace.\n",
    "\n",
    "Workflow: don't build the whole program at once. Get it to an intermediate\n",
    "milestone and print your data structure and sys.exit(0).\n",
    "When that's working, try for the next milestone.\n",
    "\n",
    "Optional: define a helper function to avoid code duplication inside\n",
    "print_words() and print_top().\n",
    "\n",
    "\"\"\"\n",
    "\n",
    "import sys\n",
    "\n",
    "# +++your code here+++\n",
    "# Define print_words(filename) and print_top(filename) functions.\n",
    "# You could write a helper utility function that reads a file\n",
    "# and builds and returns a word/count dict for it.\n",
    "# Then print_words() and print_top() can just call the utility function.\n",
    "\n",
    "def sort_by_value(item):\n",
    "\n",
    "    return item[-1];\n",
    "\n",
    "def buildDic(file):\n",
    "    f= open(file,'r');\n",
    "    words = f.read().split();\n",
    "    count  ={};\n",
    "    for word in words:\n",
    "        word = word.lower();\n",
    "        if word not in count:\n",
    "            count[word]=1;\n",
    "        else:\n",
    "            count[word] += 1;\n",
    "    f.close();\n",
    "    return count;\n",
    "\n",
    "def print_words(filename):\n",
    "    count = buildDic(filename);\n",
    "    for word in sorted(count.keys()):\n",
    "        print (word, count[word]);        \n",
    "\n",
    "def print_top(filename):\n",
    "    count = buildDic(filename);\n",
    "    i = 0;\n",
    "    items = sorted(count.items(), key=sort_by_value, reverse=True);\n",
    "    for item in items[:20]:\n",
    "        print (item[0] + ': ' + str(item[1]) + ' times');\n",
    "        i += 1;\n",
    "###\n",
    "\n",
    "# This basic command line argument parsing code is provided and\n",
    "# calls the print_words() and print_top() functions which you must define.\n",
    "def main():\n",
    " \n",
    "  option = '--topcount'\n",
    "  filename = 'small.txt'\n",
    "  if option == '--count':\n",
    "    print_words(filename)\n",
    "  elif option == '--topcount':\n",
    "    print_top(filename)\n",
    "  else:\n",
    "    print ('unknown option: ') + option\n",
    "    sys.exit(1)\n",
    "\n",
    "if __name__ == '__main__':\n",
    "    main()"
   ]
  },
  {
   "cell_type": "code",
   "execution_count": null,
   "metadata": {
    "collapsed": true
   },
   "outputs": [],
   "source": []
  },
  {
   "cell_type": "code",
   "execution_count": null,
   "metadata": {
    "collapsed": true
   },
   "outputs": [],
   "source": []
  }
 ],
 "metadata": {
  "kernelspec": {
   "display_name": "Python 3",
   "language": "python",
   "name": "python3"
  },
  "language_info": {
   "codemirror_mode": {
    "name": "ipython",
    "version": 3
   },
   "file_extension": ".py",
   "mimetype": "text/x-python",
   "name": "python",
   "nbconvert_exporter": "python",
   "pygments_lexer": "ipython3",
   "version": "3.5.3"
  }
 },
 "nbformat": 4,
 "nbformat_minor": 2
}
